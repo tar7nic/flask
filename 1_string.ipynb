{
 "cells": [
  {
   "cell_type": "markdown",
   "id": "edf0e181",
   "metadata": {},
   "source": [
    "# Revision ho raha hai"
   ]
  },
  {
   "cell_type": "code",
   "execution_count": 1,
   "id": "75c19845",
   "metadata": {},
   "outputs": [],
   "source": [
    "mystr = \"abcdefghij\""
   ]
  },
  {
   "cell_type": "code",
   "execution_count": 2,
   "id": "608f69a1",
   "metadata": {},
   "outputs": [
    {
     "data": {
      "text/plain": [
       "'abc'"
      ]
     },
     "execution_count": 2,
     "metadata": {},
     "output_type": "execute_result"
    }
   ],
   "source": [
    "mystr[0:3]"
   ]
  },
  {
   "cell_type": "code",
   "execution_count": 3,
   "id": "c1f5bf45",
   "metadata": {},
   "outputs": [
    {
     "data": {
      "text/plain": [
       "'efg'"
      ]
     },
     "execution_count": 3,
     "metadata": {},
     "output_type": "execute_result"
    }
   ],
   "source": [
    "mystr[4:7]"
   ]
  },
  {
   "cell_type": "code",
   "execution_count": 4,
   "id": "53d02116",
   "metadata": {},
   "outputs": [
    {
     "data": {
      "text/plain": [
       "'aceg'"
      ]
     },
     "execution_count": 4,
     "metadata": {},
     "output_type": "execute_result"
    }
   ],
   "source": [
    "mystr[0:7:2]"
   ]
  },
  {
   "cell_type": "code",
   "execution_count": 5,
   "id": "027c60a0",
   "metadata": {},
   "outputs": [
    {
     "data": {
      "text/plain": [
       "'hij'"
      ]
     },
     "execution_count": 5,
     "metadata": {},
     "output_type": "execute_result"
    }
   ],
   "source": [
    "mystr[7:]"
   ]
  },
  {
   "cell_type": "code",
   "execution_count": 7,
   "id": "79ae01d4",
   "metadata": {},
   "outputs": [
    {
     "data": {
      "text/plain": [
       "'abcdefg'"
      ]
     },
     "execution_count": 7,
     "metadata": {},
     "output_type": "execute_result"
    }
   ],
   "source": [
    "mystr[:7]"
   ]
  },
  {
   "cell_type": "code",
   "execution_count": 9,
   "id": "849684fa",
   "metadata": {},
   "outputs": [
    {
     "data": {
      "text/plain": [
       "'acegi'"
      ]
     },
     "execution_count": 9,
     "metadata": {},
     "output_type": "execute_result"
    }
   ],
   "source": [
    "mystr[::2]"
   ]
  },
  {
   "cell_type": "code",
   "execution_count": 10,
   "id": "66e9d1fb",
   "metadata": {},
   "outputs": [
    {
     "data": {
      "text/plain": [
       "'jihgfedcba'"
      ]
     },
     "execution_count": 10,
     "metadata": {},
     "output_type": "execute_result"
    }
   ],
   "source": [
    "mystr[::-1]"
   ]
  },
  {
   "cell_type": "code",
   "execution_count": 11,
   "id": "52288c3d",
   "metadata": {},
   "outputs": [
    {
     "data": {
      "text/plain": [
       "'abcdefghijabcdefghij'"
      ]
     },
     "execution_count": 11,
     "metadata": {},
     "output_type": "execute_result"
    }
   ],
   "source": [
    "mystr+mystr"
   ]
  },
  {
   "cell_type": "code",
   "execution_count": 12,
   "id": "2251173a",
   "metadata": {},
   "outputs": [
    {
     "data": {
      "text/plain": [
       "'ABCDEFGHIJ'"
      ]
     },
     "execution_count": 12,
     "metadata": {},
     "output_type": "execute_result"
    }
   ],
   "source": [
    "mystr.upper()"
   ]
  },
  {
   "cell_type": "code",
   "execution_count": 17,
   "id": "560f2d99",
   "metadata": {},
   "outputs": [
    {
     "data": {
      "text/plain": [
       "['agdu pagdu chigdu', 'higdu digdu tigdu']"
      ]
     },
     "execution_count": 17,
     "metadata": {},
     "output_type": "execute_result"
    }
   ],
   "source": [
    "string = \"\"\"agdu pagdu chigdu\n",
    "higdu digdu tigdu\"\"\"\n",
    "string.splitlines()"
   ]
  },
  {
   "cell_type": "code",
   "execution_count": 19,
   "id": "41fa22ad",
   "metadata": {},
   "outputs": [
    {
     "name": "stdout",
     "output_type": "stream",
     "text": [
      "Tarun's favorite colour is black\n"
     ]
    }
   ],
   "source": [
    "user = \"Tarun's\"\n",
    "color = \"black\"\n",
    "print(\"{} favorite colour is {}\".format(user,color))"
   ]
  },
  {
   "cell_type": "code",
   "execution_count": 22,
   "id": "4b6ebcc2",
   "metadata": {},
   "outputs": [
    {
     "name": "stdout",
     "output_type": "stream",
     "text": [
      "Lavee's favorite color is red.\n"
     ]
    }
   ],
   "source": [
    "user = \"Lavee's\"\n",
    "fav = \"red\"\n",
    "\n",
    "print(f\"{user} favorite color is {fav}.\")"
   ]
  }
 ],
 "metadata": {
  "kernelspec": {
   "display_name": "Python 3",
   "language": "python",
   "name": "python3"
  },
  "language_info": {
   "codemirror_mode": {
    "name": "ipython",
    "version": 3
   },
   "file_extension": ".py",
   "mimetype": "text/x-python",
   "name": "python",
   "nbconvert_exporter": "python",
   "pygments_lexer": "ipython3",
   "version": "3.9.0"
  }
 },
 "nbformat": 4,
 "nbformat_minor": 5
}
