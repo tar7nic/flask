{
 "cells": [
  {
   "cell_type": "markdown",
   "id": "7a0d616c",
   "metadata": {},
   "source": [
    "functions 1 and 2 both\n"
   ]
  },
  {
   "cell_type": "code",
   "execution_count": 3,
   "id": "157461f2",
   "metadata": {},
   "outputs": [
    {
     "name": "stdout",
     "output_type": "stream",
     "text": [
      "hello Tarun\n"
     ]
    }
   ],
   "source": [
    "def myname(name):\n",
    "    print(\"hello \" + name)\n",
    "    \n",
    "myname(\"Tarun\")"
   ]
  },
  {
   "cell_type": "code",
   "execution_count": null,
   "id": "fc1d7aca",
   "metadata": {},
   "outputs": [
    {
     "name": "stdout",
     "output_type": "stream",
     "text": [
      "6\n",
      "None\n"
     ]
    }
   ],
   "source": [
    "def addnums(n1,n2):\n",
    "    print(n1+n2)\n",
    "    \n",
    "result = addnums(2,4)\n",
    "print(result)\n",
    "# result doesnt store the output, this is bcoz function variable ke andar nhi ata "
   ]
  },
  {
   "cell_type": "code",
   "execution_count": 12,
   "id": "2b82af27",
   "metadata": {},
   "outputs": [
    {
     "name": "stdout",
     "output_type": "stream",
     "text": [
      "2\n"
     ]
    }
   ],
   "source": [
    "# to solve above problem, use return keyword\n",
    "def subnum(n1,n2):\n",
    "    return n2-n1\n",
    "\n",
    "result = subnum(2,4)\n",
    "print(result)"
   ]
  },
  {
   "cell_type": "code",
   "execution_count": 13,
   "id": "7311b077",
   "metadata": {},
   "outputs": [
    {
     "data": {
      "text/plain": [
       "3"
      ]
     },
     "execution_count": 13,
     "metadata": {},
     "output_type": "execute_result"
    }
   ],
   "source": [
    "subnum(3,6)"
   ]
  },
  {
   "cell_type": "code",
   "execution_count": 14,
   "id": "bd49bc27",
   "metadata": {},
   "outputs": [
    {
     "data": {
      "text/plain": [
       "2"
      ]
     },
     "execution_count": 14,
     "metadata": {},
     "output_type": "execute_result"
    }
   ],
   "source": [
    "result"
   ]
  },
  {
   "cell_type": "markdown",
   "id": "09647afc",
   "metadata": {},
   "source": [
    "part two\n"
   ]
  },
  {
   "cell_type": "code",
   "execution_count": 2,
   "id": "f2c3bef2",
   "metadata": {},
   "outputs": [
    {
     "data": {
      "text/plain": [
       "6"
      ]
     },
     "execution_count": 2,
     "metadata": {},
     "output_type": "execute_result"
    }
   ],
   "source": [
    "max(2,3,4,5,6)"
   ]
  },
  {
   "cell_type": "code",
   "execution_count": 3,
   "id": "06d3fa1e",
   "metadata": {},
   "outputs": [
    {
     "name": "stdout",
     "output_type": "stream",
     "text": [
      "a\n",
      "is at index: 0\n",
      "b\n",
      "is at index: 1\n",
      "c\n",
      "is at index: 2\n"
     ]
    }
   ],
   "source": [
    "mylist = ['a','b','c']\n",
    "index = 0\n",
    "for letter in mylist :\n",
    "    print(letter)\n",
    "    print(f\"is at index: {index}\")\n",
    "    index = index + 1"
   ]
  },
  {
   "cell_type": "code",
   "execution_count": 4,
   "id": "0fa4f054",
   "metadata": {},
   "outputs": [
    {
     "name": "stdout",
     "output_type": "stream",
     "text": [
      "(0, 'a')\n",
      "(1, 'b')\n",
      "(2, 'c')\n"
     ]
    }
   ],
   "source": [
    "mylist = ['a','b','c']\n",
    "for item in enumerate(mylist):\n",
    "    print(item)"
   ]
  },
  {
   "cell_type": "code",
   "execution_count": 5,
   "id": "64d08347",
   "metadata": {},
   "outputs": [
    {
     "name": "stdout",
     "output_type": "stream",
     "text": [
      "a--b--c--d--e\n"
     ]
    }
   ],
   "source": [
    "mylist = ['a','b','c','d','e']\n",
    "print('--'.join(mylist))"
   ]
  },
  {
   "cell_type": "code",
   "execution_count": 7,
   "id": "5828b42a",
   "metadata": {},
   "outputs": [
    {
     "data": {
      "text/plain": [
       "False"
      ]
     },
     "execution_count": 7,
     "metadata": {},
     "output_type": "execute_result"
    }
   ],
   "source": [
    "def secretString(mystring):\n",
    "    # return 'secret' in mystring.lower()\n",
    "    return 'secret' in mystring\n",
    "secretString(\"this is not a SEcret\")"
   ]
  },
  {
   "cell_type": "code",
   "execution_count": 10,
   "id": "54c049eb",
   "metadata": {},
   "outputs": [
    {
     "name": "stdout",
     "output_type": "stream",
     "text": [
      "a\n",
      "u\n",
      "i\n",
      "a\n",
      "i\n"
     ]
    }
   ],
   "source": [
    "def code_maker(mystring):\n",
    "    for letter in mystring:\n",
    "        for vowel in 'aeiou':\n",
    "            if letter == vowel:\n",
    "                print(letter)\n",
    "            \n",
    "code_maker(\"Tarun Nichwani\")"
   ]
  }
 ],
 "metadata": {
  "kernelspec": {
   "display_name": "base",
   "language": "python",
   "name": "python3"
  },
  "language_info": {
   "codemirror_mode": {
    "name": "ipython",
    "version": 3
   },
   "file_extension": ".py",
   "mimetype": "text/x-python",
   "name": "python",
   "nbconvert_exporter": "python",
   "pygments_lexer": "ipython3",
   "version": "3.11.5"
  }
 },
 "nbformat": 4,
 "nbformat_minor": 5
}
