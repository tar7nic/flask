{
 "cells": [
  {
   "cell_type": "markdown",
   "id": "7ef6ba3e",
   "metadata": {},
   "source": [
    "OOPs in python part 1, 2 and 3"
   ]
  },
  {
   "cell_type": "code",
   "execution_count": 6,
   "id": "89539e0c",
   "metadata": {},
   "outputs": [
    {
     "name": "stdout",
     "output_type": "stream",
     "text": [
      "[1, 2, 3, 4]\n",
      "<class 'list'>\n",
      "<class 'float'>\n"
     ]
    }
   ],
   "source": [
    "mylist = [1,2,3]\n",
    "mylist.append(4)\n",
    "print(mylist)\n",
    "print(type(mylist))\n",
    "print(type(23.5))"
   ]
  },
  {
   "cell_type": "code",
   "execution_count": 9,
   "id": "708a5080",
   "metadata": {},
   "outputs": [
    {
     "data": {
      "text/plain": [
       "__main__.Sample"
      ]
     },
     "execution_count": 9,
     "metadata": {},
     "output_type": "execute_result"
    }
   ],
   "source": [
    "class Sample():\n",
    "    pass\n",
    "\n",
    "x = Sample()\n",
    "type(x)"
   ]
  },
  {
   "cell_type": "code",
   "execution_count": 13,
   "id": "c93cf25c",
   "metadata": {},
   "outputs": [
    {
     "name": "stdout",
     "output_type": "stream",
     "text": [
      "<class '__main__.Dog'>\n"
     ]
    }
   ],
   "source": [
    "class Dog():\n",
    "    \n",
    "    def __init__(self,breed):\n",
    "        self.breed = breed      \n",
    "x = Dog('Lab')\n",
    "\n",
    "print(type(x))"
   ]
  },
  {
   "cell_type": "code",
   "execution_count": 14,
   "id": "d88e756f",
   "metadata": {},
   "outputs": [
    {
     "data": {
      "text/plain": [
       "'Lab'"
      ]
     },
     "execution_count": 14,
     "metadata": {},
     "output_type": "execute_result"
    }
   ],
   "source": [
    "x.breed"
   ]
  },
  {
   "cell_type": "code",
   "execution_count": 20,
   "id": "e3a1409e",
   "metadata": {},
   "outputs": [
    {
     "name": "stdout",
     "output_type": "stream",
     "text": [
      "Husky Huskendar Labrador Sammy\n",
      "mammal\n",
      "mammal\n"
     ]
    }
   ],
   "source": [
    "class Dog():\n",
    "    \n",
    "    species = 'mammal'\n",
    "    \n",
    "    def __init__(self,input_breed, name):\n",
    "        self.breed = input_breed  \n",
    "        self.name = name\n",
    "            \n",
    "x = Dog('Husky','Huskendar')\n",
    "sam = Dog('Labrador','Sammy')\n",
    "\n",
    "print(x.breed, x.name, sam.breed, sam.name)\n",
    "print(sam.species)\n",
    "print(x.species)"
   ]
  },
  {
   "cell_type": "markdown",
   "id": "e6b7afdd",
   "metadata": {},
   "source": [
    "Part 2"
   ]
  },
  {
   "cell_type": "code",
   "execution_count": 26,
   "id": "b1f7fdea",
   "metadata": {},
   "outputs": [
    {
     "name": "stdout",
     "output_type": "stream",
     "text": [
      "Radius of the circle is:  10\n",
      "Circumference of the circle is:  62.800000000000004\n",
      "Area of the circle is:  314.0\n"
     ]
    }
   ],
   "source": [
    "class Circle():\n",
    "    \n",
    "    pi = 3.14\n",
    "    \n",
    "    def __init__(self,radius=1):\n",
    "        self.radius = radius\n",
    "        \n",
    "    def area(self):\n",
    "        return self.radius*self.radius*self.pi\n",
    "    \n",
    "    def circumference(self):\n",
    "        return 2*self.radius*self.pi\n",
    "        \n",
    "        \n",
    "mycircle = Circle(10)\n",
    "print(\"Radius of the circle is: \", mycircle.radius)\n",
    "print(\"Circumference of the circle is: \", mycircle.circumference())\n",
    "print(\"Area of the circle is: \", mycircle.area())"
   ]
  },
  {
   "cell_type": "code",
   "execution_count": 32,
   "id": "3d45be40",
   "metadata": {},
   "outputs": [
    {
     "name": "stdout",
     "output_type": "stream",
     "text": [
      "Dog Created!\n",
      "Eating!\n",
      "I am a Dog\n"
     ]
    }
   ],
   "source": [
    "class Animal():\n",
    "    \n",
    "    def __init__(self,fur):\n",
    "        self.fur = fur        \n",
    "    def report(self):\n",
    "        print('Animal')\n",
    "         \n",
    "    def eat(self):\n",
    "        print(\"Eating!\")    \n",
    "        \n",
    "class Dog(Animal): #INHERITANCE\n",
    "    \n",
    "    def __init__(self,fur):\n",
    "        Animal.__init__(self,fur)\n",
    "        print(\"Dog Created!\")\n",
    "    \n",
    "    def report(self):\n",
    "        print(\"I am a Dog\") # Method Overwriting\n",
    "                \n",
    "d = Dog('fur=Fuzzy')\n",
    "d.eat()\n",
    "d.report()"
   ]
  },
  {
   "cell_type": "markdown",
   "id": "4ef9037b",
   "metadata": {},
   "source": [
    "Part 3 "
   ]
  },
  {
   "cell_type": "code",
   "execution_count": 3,
   "id": "04a14247",
   "metadata": {},
   "outputs": [
    {
     "name": "stdout",
     "output_type": "stream",
     "text": [
      "Title: Python, Author: Jose\n"
     ]
    },
    {
     "data": {
      "text/plain": [
       "250"
      ]
     },
     "execution_count": 3,
     "metadata": {},
     "output_type": "execute_result"
    }
   ],
   "source": [
    "class Book():\n",
    "    def __init__(self,title,author,pages):\n",
    "        self.title = title\n",
    "        self.author = author\n",
    "        self.pages = pages\n",
    "    \n",
    "    def __repr__(self):\n",
    "        return f\"Title: {self.title}, Author: {self.author}\"\n",
    "    \n",
    "    def __len__(self):\n",
    "        return self.pages\n",
    "    \n",
    "mybook = Book(\"Python\",\"Jose\",250)\n",
    "print(mybook)\n",
    "len(mybook)"
   ]
  }
 ],
 "metadata": {
  "kernelspec": {
   "display_name": "base",
   "language": "python",
   "name": "python3"
  },
  "language_info": {
   "codemirror_mode": {
    "name": "ipython",
    "version": 3
   },
   "file_extension": ".py",
   "mimetype": "text/x-python",
   "name": "python",
   "nbconvert_exporter": "python",
   "pygments_lexer": "ipython3",
   "version": "3.11.5"
  }
 },
 "nbformat": 4,
 "nbformat_minor": 5
}
