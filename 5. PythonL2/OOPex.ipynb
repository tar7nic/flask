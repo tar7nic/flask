{
 "cells": [
  {
   "cell_type": "markdown",
   "id": "7403d68e",
   "metadata": {},
   "source": [
    "Exercise on OOPS"
   ]
  },
  {
   "cell_type": "code",
   "execution_count": 16,
   "id": "8f1fbec4",
   "metadata": {},
   "outputs": [
    {
     "data": {
      "text/plain": [
       "Account Owner: Jose, Balance: 200"
      ]
     },
     "execution_count": 16,
     "metadata": {},
     "output_type": "execute_result"
    }
   ],
   "source": [
    "class BankAccount():\n",
    "   \n",
    "    def __init__(self,owner,balance=0):\n",
    "        self.owner = owner\n",
    "        self.balance = balance\n",
    "        \n",
    "    def __repr__(self):\n",
    "        return f\"Account Owner: {self.owner}, Balance: {self.balance}\"\n",
    "    \n",
    "    \n",
    "    def deposit(self,deposit_amt):\n",
    "        self.balance = self.balance + deposit_amt \n",
    "        print(f\"Money deposited: {deposit_amt}, Total Balance: {self.balance} \", )\n",
    "        \n",
    "    def withdraw(self,withdrawal_amt):\n",
    "        self.balance = self.balance - withdrawal_amt\n",
    "        if withdrawal_amt > self.balance:\n",
    "            print(\"Insufficient money.\")\n",
    "        else:\n",
    "            print(f\"Money withdrawn: {withdrawal_amt}, Current balance = {self.balance}\" )\n",
    "            \n",
    "acc1 = BankAccount('Jose',200)\n",
    "acc1"
   ]
  },
  {
   "cell_type": "code",
   "execution_count": 13,
   "id": "29c8ec38",
   "metadata": {},
   "outputs": [
    {
     "name": "stdout",
     "output_type": "stream",
     "text": [
      "Money deposited: 20, Total Balance: 220 \n"
     ]
    }
   ],
   "source": [
    "acc1.deposit(20)"
   ]
  },
  {
   "cell_type": "code",
   "execution_count": 14,
   "id": "cd6346f3",
   "metadata": {},
   "outputs": [
    {
     "name": "stdout",
     "output_type": "stream",
     "text": [
      "Money withdrawn: 40, Current balance = 180\n"
     ]
    }
   ],
   "source": [
    "acc1.withdraw(40)"
   ]
  },
  {
   "cell_type": "code",
   "execution_count": 15,
   "id": "49476c3c",
   "metadata": {},
   "outputs": [
    {
     "name": "stdout",
     "output_type": "stream",
     "text": [
      "Insufficient money.\n"
     ]
    }
   ],
   "source": [
    "acc1.withdraw(290)"
   ]
  },
  {
   "cell_type": "markdown",
   "id": "97e46e8b",
   "metadata": {},
   "source": [
    "Lovely"
   ]
  }
 ],
 "metadata": {
  "kernelspec": {
   "display_name": "base",
   "language": "python",
   "name": "python3"
  },
  "language_info": {
   "codemirror_mode": {
    "name": "ipython",
    "version": 3
   },
   "file_extension": ".py",
   "mimetype": "text/x-python",
   "name": "python",
   "nbconvert_exporter": "python",
   "pygments_lexer": "ipython3",
   "version": "3.11.5"
  }
 },
 "nbformat": 4,
 "nbformat_minor": 5
}
