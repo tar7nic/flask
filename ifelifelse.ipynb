{
 "cells": [
  {
   "cell_type": "markdown",
   "id": "24431034",
   "metadata": {},
   "source": [
    "## if elif and else statements"
   ]
  },
  {
   "cell_type": "code",
   "execution_count": 1,
   "id": "4c449737",
   "metadata": {},
   "outputs": [
    {
     "name": "stdout",
     "output_type": "stream",
     "text": [
      "Access granted.\n"
     ]
    }
   ],
   "source": [
    "username = \"admin\"\n",
    "check = \"admin\"\n",
    "if username == check and 1==1:\n",
    "    print(\"Access granted.\")\n",
    "else:\n",
    "    print(\"Access Denied\")"
   ]
  },
  {
   "cell_type": "code",
   "execution_count": 2,
   "id": "7e121b4c",
   "metadata": {},
   "outputs": [
    {
     "name": "stdout",
     "output_type": "stream",
     "text": [
      "Access Denied\n"
     ]
    }
   ],
   "source": [
    "if username == check and 1==2:\n",
    "    print(\"Access granted.\")\n",
    "else:\n",
    "    print(\"Access Denied\")"
   ]
  },
  {
   "cell_type": "code",
   "execution_count": null,
   "id": "72b3844c",
   "metadata": {},
   "outputs": [],
   "source": []
  }
 ],
 "metadata": {
  "kernelspec": {
   "display_name": "base",
   "language": "python",
   "name": "python3"
  },
  "language_info": {
   "codemirror_mode": {
    "name": "ipython",
    "version": 3
   },
   "file_extension": ".py",
   "mimetype": "text/x-python",
   "name": "python",
   "nbconvert_exporter": "python",
   "pygments_lexer": "ipython3",
   "version": "3.11.5"
  }
 },
 "nbformat": 4,
 "nbformat_minor": 5
}
