{
 "cells": [
  {
   "cell_type": "markdown",
   "id": "471119c5",
   "metadata": {},
   "source": [
    "Decorators in python,\n",
    "It decorates functions in python"
   ]
  },
  {
   "cell_type": "code",
   "execution_count": 12,
   "id": "1ba791cf",
   "metadata": {},
   "outputs": [
    {
     "name": "stdout",
     "output_type": "stream",
     "text": [
      "the hello func() has been run\n"
     ]
    },
    {
     "data": {
      "text/plain": [
       "'  This is inside welcome()'"
      ]
     },
     "execution_count": 12,
     "metadata": {},
     "output_type": "execute_result"
    }
   ],
   "source": [
    "def hello(name = \"Tarun\"):\n",
    "    print('the hello func() has been run')\n",
    "    \n",
    "    def greet():\n",
    "        return '   This is inside greet()'\n",
    "    \n",
    "    def welcome():\n",
    "        return \"  This is inside welcome()\" \n",
    "    \n",
    "    if name==\"Tarun\":\n",
    "        return greet\n",
    "    else:\n",
    "        return welcome\n",
    "    \n",
    "x = hello(name=\"sammy\")\n",
    "x()"
   ]
  },
  {
   "cell_type": "code",
   "execution_count": 13,
   "id": "bf9215ab",
   "metadata": {},
   "outputs": [
    {
     "name": "stdout",
     "output_type": "stream",
     "text": [
      "some other code\n",
      "Hi Tarun\n"
     ]
    }
   ],
   "source": [
    "def hello():\n",
    "    return \"Hi Tarun\"\n",
    "\n",
    "def other(func):\n",
    "    print(\"some other code\")\n",
    "    print(func())\n",
    "    \n",
    "other(hello)"
   ]
  },
  {
   "cell_type": "code",
   "execution_count": 16,
   "id": "9ad84dc8",
   "metadata": {},
   "outputs": [
    {
     "name": "stdout",
     "output_type": "stream",
     "text": [
      "some code before executing func\n",
      "Please decorate me\n",
      "code here, after executing func\n"
     ]
    }
   ],
   "source": [
    "def new_decorator(func):\n",
    "    def wrap_func():\n",
    "        print(\"some code before executing func\")\n",
    "        \n",
    "        func()\n",
    "        \n",
    "        print(\"code here, after executing func\")\n",
    "    return wrap_func\n",
    "\n",
    "def func_needs_decorator():\n",
    "    print(\"Please decorate me\")\n",
    "    \n",
    "func_needs_decorator = new_decorator(func_needs_decorator)\n",
    "func_needs_decorator()"
   ]
  },
  {
   "cell_type": "code",
   "execution_count": 20,
   "id": "fba22add",
   "metadata": {},
   "outputs": [
    {
     "name": "stdout",
     "output_type": "stream",
     "text": [
      "some code before executing func\n",
      "some code before executing func\n",
      "Please decorate me\n",
      "code here, after executing func\n",
      "code here, after executing func\n"
     ]
    }
   ],
   "source": [
    "def new_decorator(func):\n",
    "    def wrap_func():\n",
    "        print(\"some code before executing func\")\n",
    "        \n",
    "        func()\n",
    "        \n",
    "        print(\"code here, after executing func\")\n",
    "    return wrap_func\n",
    "\n",
    "@new_decorator #this line of code can be switched on and off and the upar wala code block can be executed or ignored acc to it\n",
    "def func_needs_decorator():\n",
    "    print(\"Please decorate me\")\n",
    "    \n",
    "func_needs_decorator = new_decorator(func_needs_decorator)\n",
    "func_needs_decorator()"
   ]
  },
  {
   "cell_type": "code",
   "execution_count": 18,
   "id": "c287269f",
   "metadata": {},
   "outputs": [
    {
     "name": "stdout",
     "output_type": "stream",
     "text": [
      "some code before executing func\n",
      "Please decorate me\n",
      "code here, after executing func\n"
     ]
    }
   ],
   "source": [
    "def new_decorator(func):\n",
    "    def wrap_func():\n",
    "        print(\"some code before executing func\")\n",
    "        \n",
    "        func()\n",
    "        \n",
    "        print(\"code here, after executing func\")\n",
    "    return wrap_func\n",
    "\n",
    "# @new_decorator #this line of code can be switched on and off and the upar wala code block can be executed or ignored acc to it\n",
    "def func_needs_decorator():\n",
    "    print(\"Please decorate me\")\n",
    "    \n",
    "func_needs_decorator = new_decorator(func_needs_decorator)\n",
    "func_needs_decorator()"
   ]
  },
  {
   "cell_type": "code",
   "execution_count": null,
   "id": "e5df18e5",
   "metadata": {},
   "outputs": [],
   "source": []
  }
 ],
 "metadata": {
  "kernelspec": {
   "display_name": "base",
   "language": "python",
   "name": "python3"
  },
  "language_info": {
   "codemirror_mode": {
    "name": "ipython",
    "version": 3
   },
   "file_extension": ".py",
   "mimetype": "text/x-python",
   "name": "python",
   "nbconvert_exporter": "python",
   "pygments_lexer": "ipython3",
   "version": "3.11.5"
  }
 },
 "nbformat": 4,
 "nbformat_minor": 5
}
