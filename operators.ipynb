{
 "cells": [
  {
   "cell_type": "markdown",
   "id": "0c4590c2",
   "metadata": {},
   "source": [
    "### Comparison and Logical operators"
   ]
  },
  {
   "cell_type": "markdown",
   "id": "c6d01c42",
   "metadata": {},
   "source": [
    "### Comparison operators: > , < ,  == , !=\n",
    "\n",
    "### Logical operators: and , or"
   ]
  },
  {
   "cell_type": "code",
   "execution_count": 1,
   "id": "2fa9bda1",
   "metadata": {},
   "outputs": [
    {
     "data": {
      "text/plain": [
       "True"
      ]
     },
     "execution_count": 1,
     "metadata": {},
     "output_type": "execute_result"
    }
   ],
   "source": [
    "3>2"
   ]
  },
  {
   "cell_type": "code",
   "execution_count": 2,
   "id": "c06b8f9a",
   "metadata": {},
   "outputs": [
    {
     "data": {
      "text/plain": [
       "False"
      ]
     },
     "execution_count": 2,
     "metadata": {},
     "output_type": "execute_result"
    }
   ],
   "source": [
    "1==2 and 2>1"
   ]
  },
  {
   "cell_type": "code",
   "execution_count": 3,
   "id": "01facab8",
   "metadata": {},
   "outputs": [
    {
     "data": {
      "text/plain": [
       "True"
      ]
     },
     "execution_count": 3,
     "metadata": {},
     "output_type": "execute_result"
    }
   ],
   "source": [
    "1==1 and 2>1"
   ]
  },
  {
   "cell_type": "code",
   "execution_count": 5,
   "id": "0a40cc05",
   "metadata": {},
   "outputs": [
    {
     "data": {
      "text/plain": [
       "True"
      ]
     },
     "execution_count": 5,
     "metadata": {},
     "output_type": "execute_result"
    }
   ],
   "source": [
    "1==2 or 2>1"
   ]
  }
 ],
 "metadata": {
  "kernelspec": {
   "display_name": "Python 3",
   "language": "python",
   "name": "python3"
  },
  "language_info": {
   "codemirror_mode": {
    "name": "ipython",
    "version": 3
   },
   "file_extension": ".py",
   "mimetype": "text/x-python",
   "name": "python",
   "nbconvert_exporter": "python",
   "pygments_lexer": "ipython3",
   "version": "3.11.0"
  }
 },
 "nbformat": 4,
 "nbformat_minor": 5
}
