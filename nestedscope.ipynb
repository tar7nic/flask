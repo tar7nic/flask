{
 "cells": [
  {
   "cell_type": "markdown",
   "id": "56ba3767",
   "metadata": {},
   "source": [
    "Nested Statements and Scope"
   ]
  },
  {
   "cell_type": "code",
   "execution_count": 1,
   "id": "bc2f1616",
   "metadata": {},
   "outputs": [
    {
     "name": "stdout",
     "output_type": "stream",
     "text": [
      "outside\n"
     ]
    }
   ],
   "source": [
    "x = 'outside'\n",
    "\n",
    "def report():\n",
    "    x = 'inside'\n",
    "    return x\n",
    "\n",
    "print(x)"
   ]
  },
  {
   "cell_type": "code",
   "execution_count": 4,
   "id": "dcd8479b",
   "metadata": {},
   "outputs": [
    {
     "name": "stdout",
     "output_type": "stream",
     "text": [
      "inside\n",
      "outside\n"
     ]
    }
   ],
   "source": [
    "print(report())\n",
    "print(x)"
   ]
  },
  {
   "cell_type": "markdown",
   "id": "e4881cff",
   "metadata": {},
   "source": [
    "LEGB Rule:\n",
    "1) Local\n",
    "2) Enclosing\n",
    "3) Global\n",
    "4) Built In"
   ]
  },
  {
   "cell_type": "code",
   "execution_count": 7,
   "id": "51a82fe1",
   "metadata": {},
   "outputs": [
    {
     "name": "stdout",
     "output_type": "stream",
     "text": [
      "local\n"
     ]
    }
   ],
   "source": [
    "#1 Local\n",
    "def report():\n",
    "    x = 'local'\n",
    "    print(x)\n",
    "    \n",
    "report()"
   ]
  },
  {
   "cell_type": "code",
   "execution_count": null,
   "id": "3a22802e",
   "metadata": {},
   "outputs": [
    {
     "name": "stdout",
     "output_type": "stream",
     "text": [
      "Enclosing level\n"
     ]
    }
   ],
   "source": [
    "#Enclosing\n",
    "\n",
    "y = 'THIS IS GLOBAL LEVEL'\n",
    "\n",
    "def enclosing():\n",
    "    y = 'Enclosing level'\n",
    "    \n",
    "    def inside():\n",
    "        #LEGB RULE: first search for something that is at local level\n",
    "        print(y)\n",
    "    inside()\n",
    "    \n",
    "enclosing()"
   ]
  },
  {
   "cell_type": "code",
   "execution_count": 13,
   "id": "88c7ac70",
   "metadata": {},
   "outputs": [
    {
     "name": "stdout",
     "output_type": "stream",
     "text": [
      "THIS IS GLOBAL LEVEL\n"
     ]
    }
   ],
   "source": [
    "#Global Level\n",
    "y = 'THIS IS GLOBAL LEVEL'\n",
    "\n",
    "def enclosing():\n",
    "    # y = 'Enclosing level'\n",
    "    \n",
    "    def inside():\n",
    "        #LEGB RULE: first search for something that is at local level\n",
    "        print(y)\n",
    "    inside()\n",
    "    \n",
    "enclosing()"
   ]
  },
  {
   "cell_type": "code",
   "execution_count": 14,
   "id": "793a225a",
   "metadata": {},
   "outputs": [
    {
     "name": "stdout",
     "output_type": "stream",
     "text": [
      "local\n"
     ]
    }
   ],
   "source": [
    "y = 'THIS IS GLOBAL LEVEL'\n",
    "\n",
    "def enclosing():\n",
    "    # y = 'Enclosing level'\n",
    "    \n",
    "    #now we have added a local variable in the inside func\n",
    "    # acc to LEGB rule L shud be taken first\n",
    "    def inside():\n",
    "        y = 'local'        \n",
    "        print(y)\n",
    "    inside()\n",
    "    \n",
    "enclosing()"
   ]
  },
  {
   "cell_type": "code",
   "execution_count": null,
   "id": "45e83ff7",
   "metadata": {},
   "outputs": [
    {
     "name": "stdout",
     "output_type": "stream",
     "text": [
      "inside\n",
      "inside\n"
     ]
    }
   ],
   "source": [
    "x = 'outside'\n",
    "\n",
    "def report():\n",
    "    global x\n",
    "    x = 'inside'\n",
    "    return x\n",
    "\n",
    "print(report())\n",
    "print(x)"
   ]
  },
  {
   "cell_type": "code",
   "execution_count": 17,
   "id": "71612dbd",
   "metadata": {},
   "outputs": [
    {
     "name": "stdout",
     "output_type": "stream",
     "text": [
      "inside\n",
      "outside\n"
     ]
    }
   ],
   "source": [
    "x = 'outside'\n",
    "\n",
    "def report():\n",
    "    # global x\n",
    "    x = 'inside'\n",
    "    return x\n",
    "\n",
    "print(report())\n",
    "print(x)"
   ]
  }
 ],
 "metadata": {
  "kernelspec": {
   "display_name": "base",
   "language": "python",
   "name": "python3"
  },
  "language_info": {
   "codemirror_mode": {
    "name": "ipython",
    "version": 3
   },
   "file_extension": ".py",
   "mimetype": "text/x-python",
   "name": "python",
   "nbconvert_exporter": "python",
   "pygments_lexer": "ipython3",
   "version": "3.11.5"
  }
 },
 "nbformat": 4,
 "nbformat_minor": 5
}
