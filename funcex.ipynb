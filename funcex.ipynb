{
 "cells": [
  {
   "cell_type": "code",
   "execution_count": 9,
   "id": "68140ad8",
   "metadata": {},
   "outputs": [
    {
     "name": "stdout",
     "output_type": "stream",
     "text": [
      "False\n"
     ]
    }
   ],
   "source": [
    "def check_ten(n1,n2):\n",
    "    return n1+n2\n",
    "\n",
    "result = check_ten(2,5)\n",
    "if result == 10:\n",
    "    print(\"True\")\n",
    "else:\n",
    "    print(\"False\")    "
   ]
  },
  {
   "cell_type": "code",
   "execution_count": null,
   "id": "9f8f0ef6",
   "metadata": {},
   "outputs": [
    {
     "name": "stdout",
     "output_type": "stream",
     "text": [
      "7\n"
     ]
    }
   ],
   "source": [
    "def check_ten(n1,n2):\n",
    "    return n1+n2\n",
    "\n",
    "result = check_ten(2,5)\n",
    "if result == 10:\n",
    "    print(\"True\")\n",
    "else:\n",
    "    print(result)"
   ]
  },
  {
   "cell_type": "code",
   "execution_count": 15,
   "id": "23df61cb",
   "metadata": {},
   "outputs": [
    {
     "name": "stdout",
     "output_type": "stream",
     "text": [
      "Pagal\n"
     ]
    }
   ],
   "source": [
    "def first_upper(mystring):\n",
    "    print(mystring[0].upper() + mystring[1:])\n",
    "        \n",
    "first_upper(\"pagal\")"
   ]
  },
  {
   "cell_type": "code",
   "execution_count": 30,
   "id": "9f72ac13",
   "metadata": {},
   "outputs": [
    {
     "name": "stdout",
     "output_type": "stream",
     "text": [
      "un\n"
     ]
    }
   ],
   "source": [
    "def last_two(mystring):\n",
    "    if len(mystring)<2:\n",
    "        print(\"Error\")\n",
    "    else:\n",
    "        print(mystring[-2:])\n",
    "        \n",
    "last_two(\"tarun\")"
   ]
  }
 ],
 "metadata": {
  "kernelspec": {
   "display_name": "base",
   "language": "python",
   "name": "python3"
  },
  "language_info": {
   "codemirror_mode": {
    "name": "ipython",
    "version": 3
   },
   "file_extension": ".py",
   "mimetype": "text/x-python",
   "name": "python",
   "nbconvert_exporter": "python",
   "pygments_lexer": "ipython3",
   "version": "3.11.5"
  }
 },
 "nbformat": 4,
 "nbformat_minor": 5
}
