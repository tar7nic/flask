{
 "cells": [
  {
   "cell_type": "markdown",
   "id": "50c07ffb",
   "metadata": {},
   "source": [
    "# Dictionary revision"
   ]
  },
  {
   "cell_type": "code",
   "execution_count": 28,
   "id": "0a309ffa",
   "metadata": {},
   "outputs": [
    {
     "data": {
      "text/plain": [
       "{'john': 20, 'mike': 25, 'Sally': 19}"
      ]
     },
     "execution_count": 28,
     "metadata": {},
     "output_type": "execute_result"
    }
   ],
   "source": [
    "sal = {'john' : 20, 'mike' : 25, 'Sally':19}\n",
    "sal"
   ]
  },
  {
   "cell_type": "code",
   "execution_count": 29,
   "id": "ce1ede72",
   "metadata": {},
   "outputs": [
    {
     "data": {
      "text/plain": [
       "dict_keys(['john', 'mike', 'Sally'])"
      ]
     },
     "execution_count": 29,
     "metadata": {},
     "output_type": "execute_result"
    }
   ],
   "source": [
    "sal.keys()"
   ]
  },
  {
   "cell_type": "code",
   "execution_count": 17,
   "id": "f45aee97",
   "metadata": {},
   "outputs": [
    {
     "data": {
      "text/plain": [
       "20"
      ]
     },
     "execution_count": 17,
     "metadata": {},
     "output_type": "execute_result"
    }
   ],
   "source": [
    "sal['john']"
   ]
  },
  {
   "cell_type": "code",
   "execution_count": 30,
   "id": "023c7123",
   "metadata": {},
   "outputs": [
    {
     "data": {
      "text/plain": [
       "dict_items([('john', 20), ('mike', 25), ('Sally', 19)])"
      ]
     },
     "execution_count": 30,
     "metadata": {},
     "output_type": "execute_result"
    }
   ],
   "source": [
    "sal.items()"
   ]
  },
  {
   "cell_type": "code",
   "execution_count": 18,
   "id": "28858457",
   "metadata": {},
   "outputs": [
    {
     "data": {
      "text/plain": [
       "{'john': 20, 'mike': 25, 'Sally': 19, 'max': 100}"
      ]
     },
     "execution_count": 18,
     "metadata": {},
     "output_type": "execute_result"
    }
   ],
   "source": [
    "sal['max'] = 100\n",
    "sal "
   ]
  },
  {
   "cell_type": "code",
   "execution_count": 19,
   "id": "acd90e72",
   "metadata": {},
   "outputs": [],
   "source": [
    "sal['Sally'] = sal['Sally'] + 5"
   ]
  },
  {
   "cell_type": "code",
   "execution_count": 20,
   "id": "a1001286",
   "metadata": {},
   "outputs": [
    {
     "data": {
      "text/plain": [
       "24"
      ]
     },
     "execution_count": 20,
     "metadata": {},
     "output_type": "execute_result"
    }
   ],
   "source": [
    "sal['Sally']"
   ]
  },
  {
   "cell_type": "code",
   "execution_count": 21,
   "id": "d67b6375",
   "metadata": {},
   "outputs": [
    {
     "data": {
      "text/plain": [
       "{'john': 20, 'mike': 25, 'Sally': 24, 'max': 100}"
      ]
     },
     "execution_count": 21,
     "metadata": {},
     "output_type": "execute_result"
    }
   ],
   "source": [
    "sal"
   ]
  },
  {
   "cell_type": "code",
   "execution_count": 22,
   "id": "8747ac56",
   "metadata": {},
   "outputs": [
    {
     "data": {
      "text/plain": [
       "[1, 2, 3]"
      ]
     },
     "execution_count": 22,
     "metadata": {},
     "output_type": "execute_result"
    }
   ],
   "source": [
    "people = {'John':[1,2,3], 'Sally':[4,5,6]}\n",
    "people['John']"
   ]
  },
  {
   "cell_type": "code",
   "execution_count": 23,
   "id": "2b09f886",
   "metadata": {},
   "outputs": [
    {
     "data": {
      "text/plain": [
       "5"
      ]
     },
     "execution_count": 23,
     "metadata": {},
     "output_type": "execute_result"
    }
   ],
   "source": [
    "people['Sally'][1]"
   ]
  },
  {
   "cell_type": "code",
   "execution_count": 24,
   "id": "d129344b",
   "metadata": {},
   "outputs": [
    {
     "data": {
      "text/plain": [
       "{'John': {'Salary': '$30k', 'Age': '29'}}"
      ]
     },
     "execution_count": 24,
     "metadata": {},
     "output_type": "execute_result"
    }
   ],
   "source": [
    "john = {'John':{'Salary':'$30k', 'Age':'29'}}\n",
    "john\n"
   ]
  },
  {
   "cell_type": "code",
   "execution_count": 25,
   "id": "0e7b7729",
   "metadata": {},
   "outputs": [
    {
     "data": {
      "text/plain": [
       "'29'"
      ]
     },
     "execution_count": 25,
     "metadata": {},
     "output_type": "execute_result"
    }
   ],
   "source": [
    "john['John']['Age']"
   ]
  },
  {
   "cell_type": "code",
   "execution_count": 26,
   "id": "44c512fe",
   "metadata": {},
   "outputs": [
    {
     "data": {
      "text/plain": [
       "'$30k'"
      ]
     },
     "execution_count": 26,
     "metadata": {},
     "output_type": "execute_result"
    }
   ],
   "source": [
    "john['John']['Salary']"
   ]
  }
 ],
 "metadata": {
  "kernelspec": {
   "display_name": "Python 3",
   "language": "python",
   "name": "python3"
  },
  "language_info": {
   "codemirror_mode": {
    "name": "ipython",
    "version": 3
   },
   "file_extension": ".py",
   "mimetype": "text/x-python",
   "name": "python",
   "nbconvert_exporter": "python",
   "pygments_lexer": "ipython3",
   "version": "3.9.0"
  }
 },
 "nbformat": 4,
 "nbformat_minor": 5
}
